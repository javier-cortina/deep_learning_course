{
 "cells": [
  {
   "cell_type": "markdown",
   "id": "452aadef",
   "metadata": {},
   "source": [
    "# Machine Learning Basics"
   ]
  },
  {
   "cell_type": "code",
   "execution_count": 214,
   "id": "dfd377d5",
   "metadata": {},
   "outputs": [],
   "source": [
    "import tensorflow as tf\n",
    "import matplotlib.pyplot as plt"
   ]
  },
  {
   "cell_type": "markdown",
   "id": "861ad874",
   "metadata": {},
   "source": [
    "### Code preamble: Classification\n",
    "```\n",
    "# how to create a layer\n",
    "D = 10\n",
    "model = tf.keras.models.Sequential([\n",
    "    tf.keras.layers.Input(shape=(D,)),\n",
    "    tf.keras.layers.Dense(1, activation='sigmoid')\n",
    "])\n",
    "\n",
    "# Compile model\n",
    "model.compile(optimizer='adam',\n",
    "             loss = 'binary_crossentropy',\n",
    "             metrics = ['accuracy'])\n",
    "             \n",
    "# Train model\n",
    "r = model.fit(X_train, y_train,\n",
    "             validation_data=(X_test, y_test),\n",
    "             epochs=100)\n",
    "\n",
    "# plot training progress\n",
    "plt.plot(r.history['loss'], label='loss')\n",
    "plt.plot(r.history['val_loss'], label='val_loss')\n",
    "```\n",
    "### Code preamble: Regression\n",
    "```\n",
    "# how to create a layer\n",
    "D = 10\n",
    "model = tf.keras.models.Sequential([\n",
    "    tf.keras.layers.Input(shape=(D,)),\n",
    "    tf.keras.layers.Dense(1)  # No activation function required\n",
    "])\n",
    "\n",
    "# Compile model\n",
    "model.compile(optimizer=tf.keras.optimizers.SGD(0.001, 0.9),  # Stochastic Gradient Descent (learning_rate, momentum)\n",
    "             loss = 'mse')                                    # Mean Sqr Error (Accuracy not applicable for regression)\n",
    "             \n",
    "# Train model\n",
    "r = model.fit(X_train, y_train,\n",
    "             validation_data=(X_test, y_test),\n",
    "             epochs=100)\n",
    "\n",
    "# plot training progress\n",
    "plt.plot(r.history['loss'], label='loss')\n",
    "plt.plot(r.history['val_loss'], label='val_loss')\n",
    "```"
   ]
  },
  {
   "cell_type": "markdown",
   "id": "efcce48b",
   "metadata": {},
   "source": [
    "## Linear Classification Example"
   ]
  },
  {
   "cell_type": "code",
   "execution_count": 215,
   "id": "8a8b7979",
   "metadata": {},
   "outputs": [],
   "source": [
    "# Use breast cancer data from sklearn\n",
    "from sklearn.datasets import load_breast_cancer\n",
    "data = load_breast_cancer()"
   ]
  },
  {
   "cell_type": "code",
   "execution_count": 216,
   "id": "04026af8",
   "metadata": {},
   "outputs": [
    {
     "data": {
      "text/plain": [
       "dict_keys(['data', 'target', 'frame', 'target_names', 'DESCR', 'feature_names', 'filename', 'data_module'])"
      ]
     },
     "execution_count": 216,
     "metadata": {},
     "output_type": "execute_result"
    }
   ],
   "source": [
    "# Available data\n",
    "data.keys()"
   ]
  },
  {
   "cell_type": "code",
   "execution_count": 217,
   "id": "6dfaaa53",
   "metadata": {},
   "outputs": [
    {
     "data": {
      "text/plain": [
       "(569, 30)"
      ]
     },
     "execution_count": 217,
     "metadata": {},
     "output_type": "execute_result"
    }
   ],
   "source": [
    "# Data size\n",
    "data.data.shape"
   ]
  },
  {
   "cell_type": "code",
   "execution_count": 218,
   "id": "ebc3c292",
   "metadata": {},
   "outputs": [
    {
     "data": {
      "text/plain": [
       "array(['mean radius', 'mean texture', 'mean perimeter', 'mean area',\n",
       "       'mean smoothness', 'mean compactness', 'mean concavity',\n",
       "       'mean concave points', 'mean symmetry', 'mean fractal dimension',\n",
       "       'radius error', 'texture error', 'perimeter error', 'area error',\n",
       "       'smoothness error', 'compactness error', 'concavity error',\n",
       "       'concave points error', 'symmetry error',\n",
       "       'fractal dimension error', 'worst radius', 'worst texture',\n",
       "       'worst perimeter', 'worst area', 'worst smoothness',\n",
       "       'worst compactness', 'worst concavity', 'worst concave points',\n",
       "       'worst symmetry', 'worst fractal dimension'], dtype='<U23')"
      ]
     },
     "execution_count": 218,
     "metadata": {},
     "output_type": "execute_result"
    }
   ],
   "source": [
    "# feature names: 30 in total\n",
    "data.feature_names"
   ]
  },
  {
   "cell_type": "code",
   "execution_count": 219,
   "id": "114528f5",
   "metadata": {},
   "outputs": [
    {
     "data": {
      "text/plain": [
       "array([0, 0, 0, 0, 0, 0, 0, 0, 0, 0, 0, 0, 0, 0, 0, 0, 0, 0, 0, 1, 1, 1,\n",
       "       0, 0, 0, 0, 0, 0, 0, 0, 0, 0, 0, 0, 0, 0, 0, 1, 0, 0, 0, 0, 0, 0,\n",
       "       0, 0, 1, 0, 1, 1, 1, 1, 1, 0, 0, 1, 0, 0, 1, 1, 1, 1, 0, 1, 0, 0,\n",
       "       1, 1, 1, 1, 0, 1, 0, 0, 1, 0, 1, 0, 0, 1, 1, 1, 0, 0, 1, 0, 0, 0,\n",
       "       1, 1, 1, 0, 1, 1, 0, 0, 1, 1, 1, 0, 0, 1, 1, 1, 1, 0, 1, 1, 0, 1,\n",
       "       1, 1, 1, 1, 1, 1, 1, 0, 0, 0, 1, 0, 0, 1, 1, 1, 0, 0, 1, 0, 1, 0,\n",
       "       0, 1, 0, 0, 1, 1, 0, 1, 1, 0, 1, 1, 1, 1, 0, 1, 1, 1, 1, 1, 1, 1,\n",
       "       1, 1, 0, 1, 1, 1, 1, 0, 0, 1, 0, 1, 1, 0, 0, 1, 1, 0, 0, 1, 1, 1,\n",
       "       1, 0, 1, 1, 0, 0, 0, 1, 0, 1, 0, 1, 1, 1, 0, 1, 1, 0, 0, 1, 0, 0,\n",
       "       0, 0, 1, 0, 0, 0, 1, 0, 1, 0, 1, 1, 0, 1, 0, 0, 0, 0, 1, 1, 0, 0,\n",
       "       1, 1, 1, 0, 1, 1, 1, 1, 1, 0, 0, 1, 1, 0, 1, 1, 0, 0, 1, 0, 1, 1,\n",
       "       1, 1, 0, 1, 1, 1, 1, 1, 0, 1, 0, 0, 0, 0, 0, 0, 0, 0, 0, 0, 0, 0,\n",
       "       0, 0, 1, 1, 1, 1, 1, 1, 0, 1, 0, 1, 1, 0, 1, 1, 0, 1, 0, 0, 1, 1,\n",
       "       1, 1, 1, 1, 1, 1, 1, 1, 1, 1, 1, 0, 1, 1, 0, 1, 0, 1, 1, 1, 1, 1,\n",
       "       1, 1, 1, 1, 1, 1, 1, 1, 1, 0, 1, 1, 1, 0, 1, 0, 1, 1, 1, 1, 0, 0,\n",
       "       0, 1, 1, 1, 1, 0, 1, 0, 1, 0, 1, 1, 1, 0, 1, 1, 1, 1, 1, 1, 1, 0,\n",
       "       0, 0, 1, 1, 1, 1, 1, 1, 1, 1, 1, 1, 1, 0, 0, 1, 0, 0, 0, 1, 0, 0,\n",
       "       1, 1, 1, 1, 1, 0, 1, 1, 1, 1, 1, 0, 1, 1, 1, 0, 1, 1, 0, 0, 1, 1,\n",
       "       1, 1, 1, 1, 0, 1, 1, 1, 1, 1, 1, 1, 0, 1, 1, 1, 1, 1, 0, 1, 1, 0,\n",
       "       1, 1, 1, 1, 1, 1, 1, 1, 1, 1, 1, 1, 0, 1, 0, 0, 1, 0, 1, 1, 1, 1,\n",
       "       1, 0, 1, 1, 0, 1, 0, 1, 1, 0, 1, 0, 1, 1, 1, 1, 1, 1, 1, 1, 0, 0,\n",
       "       1, 1, 1, 1, 1, 1, 0, 1, 1, 1, 1, 1, 1, 1, 1, 1, 1, 0, 1, 1, 1, 1,\n",
       "       1, 1, 1, 0, 1, 0, 1, 1, 0, 1, 1, 1, 1, 1, 0, 0, 1, 0, 1, 0, 1, 1,\n",
       "       1, 1, 1, 0, 1, 1, 0, 1, 0, 1, 0, 0, 1, 1, 1, 0, 1, 1, 1, 1, 1, 1,\n",
       "       1, 1, 1, 1, 1, 0, 1, 0, 0, 1, 1, 1, 1, 1, 1, 1, 1, 1, 1, 1, 1, 1,\n",
       "       1, 1, 1, 1, 1, 1, 1, 1, 1, 1, 1, 1, 0, 0, 0, 0, 0, 0, 1])"
      ]
     },
     "execution_count": 219,
     "metadata": {},
     "output_type": "execute_result"
    }
   ],
   "source": [
    "# target variable\n",
    "data.target"
   ]
  },
  {
   "cell_type": "code",
   "execution_count": 220,
   "id": "787deeae",
   "metadata": {},
   "outputs": [
    {
     "data": {
      "text/plain": [
       "array(['malignant', 'benign'], dtype='<U9')"
      ]
     },
     "execution_count": 220,
     "metadata": {},
     "output_type": "execute_result"
    }
   ],
   "source": [
    "# meaning of target data values\n",
    "data.target_names"
   ]
  },
  {
   "cell_type": "markdown",
   "id": "0050f625",
   "metadata": {},
   "source": [
    "### Split Data"
   ]
  },
  {
   "cell_type": "code",
   "execution_count": 221,
   "id": "511d62e9",
   "metadata": {},
   "outputs": [],
   "source": [
    "# split data\n",
    "from sklearn.model_selection import train_test_split\n",
    "\n",
    "X_train, X_test, y_train, y_test = train_test_split(data.data, data.target, test_size=0.33, random_state=42)"
   ]
  },
  {
   "cell_type": "code",
   "execution_count": 222,
   "id": "2939cb3b",
   "metadata": {},
   "outputs": [],
   "source": [
    "# store number of features as a variable for the neural network\n",
    "N, D = X_train.shape"
   ]
  },
  {
   "cell_type": "markdown",
   "id": "3d51182b",
   "metadata": {},
   "source": [
    "### Normalize Data"
   ]
  },
  {
   "cell_type": "code",
   "execution_count": 223,
   "id": "22602bb1",
   "metadata": {},
   "outputs": [],
   "source": [
    "from sklearn.preprocessing import StandardScaler"
   ]
  },
  {
   "cell_type": "code",
   "execution_count": 224,
   "id": "71cc2529",
   "metadata": {},
   "outputs": [],
   "source": [
    "# Normalize data\n",
    "scaler = StandardScaler()\n",
    "X_train = scaler.fit_transform(X_train)\n",
    "X_test = scaler.transform(X_test)"
   ]
  },
  {
   "cell_type": "markdown",
   "id": "75c4f605",
   "metadata": {},
   "source": [
    "### Build neural network"
   ]
  },
  {
   "cell_type": "code",
   "execution_count": 225,
   "id": "6d414279",
   "metadata": {},
   "outputs": [],
   "source": [
    "# Create model\n",
    "model = tf.keras.models.Sequential([\n",
    "    tf.keras.layers.Input(shape=(D,)),\n",
    "    tf.keras.layers.Dense(1, activation='sigmoid')\n",
    "])\n",
    "\n",
    "# Compile model\n",
    "model.compile(optimizer='adam',\n",
    "             loss = 'binary_crossentropy',\n",
    "             metrics = ['accuracy'])"
   ]
  },
  {
   "cell_type": "code",
   "execution_count": 226,
   "id": "8e983d47",
   "metadata": {},
   "outputs": [
    {
     "name": "stdout",
     "output_type": "stream",
     "text": [
      "Epoch 1/100\n",
      "12/12 [==============================] - 0s 10ms/step - loss: 0.8526 - accuracy: 0.4094 - val_loss: 0.7998 - val_accuracy: 0.4734\n",
      "Epoch 2/100\n",
      "12/12 [==============================] - 0s 3ms/step - loss: 0.7678 - accuracy: 0.4908 - val_loss: 0.7177 - val_accuracy: 0.5691\n",
      "Epoch 3/100\n",
      "12/12 [==============================] - 0s 3ms/step - loss: 0.6940 - accuracy: 0.5801 - val_loss: 0.6481 - val_accuracy: 0.6596\n",
      "Epoch 4/100\n",
      "12/12 [==============================] - 0s 3ms/step - loss: 0.6285 - accuracy: 0.6588 - val_loss: 0.5897 - val_accuracy: 0.7128\n",
      "Epoch 5/100\n",
      "12/12 [==============================] - 0s 3ms/step - loss: 0.5748 - accuracy: 0.7270 - val_loss: 0.5397 - val_accuracy: 0.7713\n",
      "Epoch 6/100\n",
      "12/12 [==============================] - 0s 3ms/step - loss: 0.5282 - accuracy: 0.7638 - val_loss: 0.4975 - val_accuracy: 0.8032\n",
      "Epoch 7/100\n",
      "12/12 [==============================] - 0s 3ms/step - loss: 0.4895 - accuracy: 0.7953 - val_loss: 0.4613 - val_accuracy: 0.8245\n",
      "Epoch 8/100\n",
      "12/12 [==============================] - 0s 3ms/step - loss: 0.4553 - accuracy: 0.8215 - val_loss: 0.4305 - val_accuracy: 0.8564\n",
      "Epoch 9/100\n",
      "12/12 [==============================] - 0s 3ms/step - loss: 0.4261 - accuracy: 0.8399 - val_loss: 0.4042 - val_accuracy: 0.8670\n",
      "Epoch 10/100\n",
      "12/12 [==============================] - 0s 3ms/step - loss: 0.4015 - accuracy: 0.8635 - val_loss: 0.3806 - val_accuracy: 0.8883\n",
      "Epoch 11/100\n",
      "12/12 [==============================] - 0s 3ms/step - loss: 0.3792 - accuracy: 0.8740 - val_loss: 0.3603 - val_accuracy: 0.8936\n",
      "Epoch 12/100\n",
      "12/12 [==============================] - 0s 3ms/step - loss: 0.3600 - accuracy: 0.8819 - val_loss: 0.3421 - val_accuracy: 0.9043\n",
      "Epoch 13/100\n",
      "12/12 [==============================] - 0s 3ms/step - loss: 0.3425 - accuracy: 0.8819 - val_loss: 0.3263 - val_accuracy: 0.9043\n",
      "Epoch 14/100\n",
      "12/12 [==============================] - 0s 3ms/step - loss: 0.3273 - accuracy: 0.8924 - val_loss: 0.3120 - val_accuracy: 0.9149\n",
      "Epoch 15/100\n",
      "12/12 [==============================] - 0s 3ms/step - loss: 0.3134 - accuracy: 0.9081 - val_loss: 0.2994 - val_accuracy: 0.9149\n",
      "Epoch 16/100\n",
      "12/12 [==============================] - 0s 3ms/step - loss: 0.3012 - accuracy: 0.9186 - val_loss: 0.2877 - val_accuracy: 0.9255\n",
      "Epoch 17/100\n",
      "12/12 [==============================] - 0s 3ms/step - loss: 0.2898 - accuracy: 0.9213 - val_loss: 0.2773 - val_accuracy: 0.9255\n",
      "Epoch 18/100\n",
      "12/12 [==============================] - 0s 3ms/step - loss: 0.2797 - accuracy: 0.9239 - val_loss: 0.2676 - val_accuracy: 0.9309\n",
      "Epoch 19/100\n",
      "12/12 [==============================] - 0s 3ms/step - loss: 0.2705 - accuracy: 0.9291 - val_loss: 0.2586 - val_accuracy: 0.9362\n",
      "Epoch 20/100\n",
      "12/12 [==============================] - 0s 4ms/step - loss: 0.2618 - accuracy: 0.9370 - val_loss: 0.2504 - val_accuracy: 0.9362\n",
      "Epoch 21/100\n",
      "12/12 [==============================] - 0s 3ms/step - loss: 0.2540 - accuracy: 0.9396 - val_loss: 0.2430 - val_accuracy: 0.9362\n",
      "Epoch 22/100\n",
      "12/12 [==============================] - 0s 3ms/step - loss: 0.2466 - accuracy: 0.9396 - val_loss: 0.2362 - val_accuracy: 0.9362\n",
      "Epoch 23/100\n",
      "12/12 [==============================] - 0s 3ms/step - loss: 0.2399 - accuracy: 0.9423 - val_loss: 0.2298 - val_accuracy: 0.9362\n",
      "Epoch 24/100\n",
      "12/12 [==============================] - 0s 4ms/step - loss: 0.2338 - accuracy: 0.9423 - val_loss: 0.2238 - val_accuracy: 0.9362\n",
      "Epoch 25/100\n",
      "12/12 [==============================] - 0s 3ms/step - loss: 0.2279 - accuracy: 0.9423 - val_loss: 0.2183 - val_accuracy: 0.9362\n",
      "Epoch 26/100\n",
      "12/12 [==============================] - 0s 4ms/step - loss: 0.2226 - accuracy: 0.9423 - val_loss: 0.2129 - val_accuracy: 0.9362\n",
      "Epoch 27/100\n",
      "12/12 [==============================] - 0s 3ms/step - loss: 0.2174 - accuracy: 0.9449 - val_loss: 0.2080 - val_accuracy: 0.9362\n",
      "Epoch 28/100\n",
      "12/12 [==============================] - 0s 3ms/step - loss: 0.2126 - accuracy: 0.9449 - val_loss: 0.2034 - val_accuracy: 0.9362\n",
      "Epoch 29/100\n",
      "12/12 [==============================] - 0s 3ms/step - loss: 0.2082 - accuracy: 0.9449 - val_loss: 0.1990 - val_accuracy: 0.9362\n",
      "Epoch 30/100\n",
      "12/12 [==============================] - 0s 4ms/step - loss: 0.2039 - accuracy: 0.9501 - val_loss: 0.1949 - val_accuracy: 0.9362\n",
      "Epoch 31/100\n",
      "12/12 [==============================] - 0s 3ms/step - loss: 0.1999 - accuracy: 0.9501 - val_loss: 0.1910 - val_accuracy: 0.9362\n",
      "Epoch 32/100\n",
      "12/12 [==============================] - 0s 3ms/step - loss: 0.1962 - accuracy: 0.9501 - val_loss: 0.1873 - val_accuracy: 0.9362\n",
      "Epoch 33/100\n",
      "12/12 [==============================] - 0s 4ms/step - loss: 0.1927 - accuracy: 0.9501 - val_loss: 0.1838 - val_accuracy: 0.9362\n",
      "Epoch 34/100\n",
      "12/12 [==============================] - 0s 4ms/step - loss: 0.1893 - accuracy: 0.9501 - val_loss: 0.1805 - val_accuracy: 0.9362\n",
      "Epoch 35/100\n",
      "12/12 [==============================] - 0s 4ms/step - loss: 0.1861 - accuracy: 0.9501 - val_loss: 0.1773 - val_accuracy: 0.9362\n",
      "Epoch 36/100\n",
      "12/12 [==============================] - 0s 3ms/step - loss: 0.1830 - accuracy: 0.9501 - val_loss: 0.1743 - val_accuracy: 0.9362\n",
      "Epoch 37/100\n",
      "12/12 [==============================] - 0s 3ms/step - loss: 0.1801 - accuracy: 0.9501 - val_loss: 0.1715 - val_accuracy: 0.9362\n",
      "Epoch 38/100\n",
      "12/12 [==============================] - 0s 3ms/step - loss: 0.1775 - accuracy: 0.9501 - val_loss: 0.1687 - val_accuracy: 0.9415\n",
      "Epoch 39/100\n",
      "12/12 [==============================] - 0s 3ms/step - loss: 0.1748 - accuracy: 0.9501 - val_loss: 0.1660 - val_accuracy: 0.9521\n",
      "Epoch 40/100\n",
      "12/12 [==============================] - 0s 3ms/step - loss: 0.1722 - accuracy: 0.9528 - val_loss: 0.1634 - val_accuracy: 0.9521\n",
      "Epoch 41/100\n",
      "12/12 [==============================] - 0s 3ms/step - loss: 0.1698 - accuracy: 0.9528 - val_loss: 0.1610 - val_accuracy: 0.9574\n",
      "Epoch 42/100\n",
      "12/12 [==============================] - 0s 3ms/step - loss: 0.1675 - accuracy: 0.9528 - val_loss: 0.1587 - val_accuracy: 0.9574\n",
      "Epoch 43/100\n",
      "12/12 [==============================] - 0s 3ms/step - loss: 0.1653 - accuracy: 0.9554 - val_loss: 0.1565 - val_accuracy: 0.9574\n",
      "Epoch 44/100\n",
      "12/12 [==============================] - 0s 3ms/step - loss: 0.1632 - accuracy: 0.9554 - val_loss: 0.1543 - val_accuracy: 0.9574\n",
      "Epoch 45/100\n",
      "12/12 [==============================] - 0s 3ms/step - loss: 0.1612 - accuracy: 0.9554 - val_loss: 0.1522 - val_accuracy: 0.9574\n",
      "Epoch 46/100\n",
      "12/12 [==============================] - 0s 3ms/step - loss: 0.1591 - accuracy: 0.9554 - val_loss: 0.1503 - val_accuracy: 0.9574\n",
      "Epoch 47/100\n",
      "12/12 [==============================] - 0s 3ms/step - loss: 0.1572 - accuracy: 0.9554 - val_loss: 0.1484 - val_accuracy: 0.9574\n",
      "Epoch 48/100\n",
      "12/12 [==============================] - 0s 3ms/step - loss: 0.1555 - accuracy: 0.9554 - val_loss: 0.1466 - val_accuracy: 0.9574\n",
      "Epoch 49/100\n",
      "12/12 [==============================] - 0s 3ms/step - loss: 0.1537 - accuracy: 0.9580 - val_loss: 0.1448 - val_accuracy: 0.9574\n",
      "Epoch 50/100\n",
      "12/12 [==============================] - 0s 3ms/step - loss: 0.1520 - accuracy: 0.9580 - val_loss: 0.1431 - val_accuracy: 0.9574\n",
      "Epoch 51/100\n",
      "12/12 [==============================] - 0s 3ms/step - loss: 0.1505 - accuracy: 0.9580 - val_loss: 0.1413 - val_accuracy: 0.9628\n",
      "Epoch 52/100\n",
      "12/12 [==============================] - 0s 3ms/step - loss: 0.1488 - accuracy: 0.9580 - val_loss: 0.1396 - val_accuracy: 0.9628\n",
      "Epoch 53/100\n",
      "12/12 [==============================] - 0s 3ms/step - loss: 0.1473 - accuracy: 0.9580 - val_loss: 0.1381 - val_accuracy: 0.9628\n",
      "Epoch 54/100\n",
      "12/12 [==============================] - 0s 3ms/step - loss: 0.1458 - accuracy: 0.9580 - val_loss: 0.1366 - val_accuracy: 0.9628\n",
      "Epoch 55/100\n",
      "12/12 [==============================] - 0s 3ms/step - loss: 0.1444 - accuracy: 0.9580 - val_loss: 0.1351 - val_accuracy: 0.9628\n",
      "Epoch 56/100\n",
      "12/12 [==============================] - 0s 3ms/step - loss: 0.1430 - accuracy: 0.9554 - val_loss: 0.1337 - val_accuracy: 0.9628\n",
      "Epoch 57/100\n",
      "12/12 [==============================] - 0s 3ms/step - loss: 0.1417 - accuracy: 0.9580 - val_loss: 0.1323 - val_accuracy: 0.9628\n",
      "Epoch 58/100\n",
      "12/12 [==============================] - 0s 3ms/step - loss: 0.1404 - accuracy: 0.9633 - val_loss: 0.1310 - val_accuracy: 0.9628\n"
     ]
    },
    {
     "name": "stdout",
     "output_type": "stream",
     "text": [
      "Epoch 59/100\n",
      "12/12 [==============================] - 0s 3ms/step - loss: 0.1391 - accuracy: 0.9633 - val_loss: 0.1296 - val_accuracy: 0.9628\n",
      "Epoch 60/100\n",
      "12/12 [==============================] - 0s 3ms/step - loss: 0.1379 - accuracy: 0.9633 - val_loss: 0.1284 - val_accuracy: 0.9628\n",
      "Epoch 61/100\n",
      "12/12 [==============================] - 0s 3ms/step - loss: 0.1367 - accuracy: 0.9633 - val_loss: 0.1272 - val_accuracy: 0.9628\n",
      "Epoch 62/100\n",
      "12/12 [==============================] - 0s 3ms/step - loss: 0.1355 - accuracy: 0.9633 - val_loss: 0.1260 - val_accuracy: 0.9628\n",
      "Epoch 63/100\n",
      "12/12 [==============================] - 0s 3ms/step - loss: 0.1345 - accuracy: 0.9633 - val_loss: 0.1248 - val_accuracy: 0.9628\n",
      "Epoch 64/100\n",
      "12/12 [==============================] - 0s 3ms/step - loss: 0.1334 - accuracy: 0.9633 - val_loss: 0.1237 - val_accuracy: 0.9628\n",
      "Epoch 65/100\n",
      "12/12 [==============================] - 0s 3ms/step - loss: 0.1323 - accuracy: 0.9633 - val_loss: 0.1226 - val_accuracy: 0.9628\n",
      "Epoch 66/100\n",
      "12/12 [==============================] - 0s 3ms/step - loss: 0.1313 - accuracy: 0.9633 - val_loss: 0.1215 - val_accuracy: 0.9628\n",
      "Epoch 67/100\n",
      "12/12 [==============================] - 0s 3ms/step - loss: 0.1303 - accuracy: 0.9633 - val_loss: 0.1204 - val_accuracy: 0.9628\n",
      "Epoch 68/100\n",
      "12/12 [==============================] - 0s 3ms/step - loss: 0.1293 - accuracy: 0.9633 - val_loss: 0.1194 - val_accuracy: 0.9628\n",
      "Epoch 69/100\n",
      "12/12 [==============================] - 0s 3ms/step - loss: 0.1284 - accuracy: 0.9633 - val_loss: 0.1184 - val_accuracy: 0.9628\n",
      "Epoch 70/100\n",
      "12/12 [==============================] - 0s 3ms/step - loss: 0.1274 - accuracy: 0.9659 - val_loss: 0.1174 - val_accuracy: 0.9628\n",
      "Epoch 71/100\n",
      "12/12 [==============================] - 0s 3ms/step - loss: 0.1265 - accuracy: 0.9659 - val_loss: 0.1165 - val_accuracy: 0.9628\n",
      "Epoch 72/100\n",
      "12/12 [==============================] - 0s 3ms/step - loss: 0.1256 - accuracy: 0.9659 - val_loss: 0.1155 - val_accuracy: 0.9628\n",
      "Epoch 73/100\n",
      "12/12 [==============================] - 0s 3ms/step - loss: 0.1248 - accuracy: 0.9685 - val_loss: 0.1146 - val_accuracy: 0.9628\n",
      "Epoch 74/100\n",
      "12/12 [==============================] - 0s 3ms/step - loss: 0.1239 - accuracy: 0.9685 - val_loss: 0.1138 - val_accuracy: 0.9628\n",
      "Epoch 75/100\n",
      "12/12 [==============================] - 0s 3ms/step - loss: 0.1231 - accuracy: 0.9685 - val_loss: 0.1129 - val_accuracy: 0.9628\n",
      "Epoch 76/100\n",
      "12/12 [==============================] - 0s 4ms/step - loss: 0.1223 - accuracy: 0.9685 - val_loss: 0.1120 - val_accuracy: 0.9628\n",
      "Epoch 77/100\n",
      "12/12 [==============================] - 0s 3ms/step - loss: 0.1215 - accuracy: 0.9685 - val_loss: 0.1112 - val_accuracy: 0.9628\n",
      "Epoch 78/100\n",
      "12/12 [==============================] - 0s 3ms/step - loss: 0.1207 - accuracy: 0.9685 - val_loss: 0.1104 - val_accuracy: 0.9628\n",
      "Epoch 79/100\n",
      "12/12 [==============================] - 0s 3ms/step - loss: 0.1200 - accuracy: 0.9711 - val_loss: 0.1096 - val_accuracy: 0.9628\n",
      "Epoch 80/100\n",
      "12/12 [==============================] - 0s 3ms/step - loss: 0.1192 - accuracy: 0.9738 - val_loss: 0.1088 - val_accuracy: 0.9628\n",
      "Epoch 81/100\n",
      "12/12 [==============================] - 0s 3ms/step - loss: 0.1185 - accuracy: 0.9738 - val_loss: 0.1081 - val_accuracy: 0.9628\n",
      "Epoch 82/100\n",
      "12/12 [==============================] - 0s 3ms/step - loss: 0.1178 - accuracy: 0.9738 - val_loss: 0.1073 - val_accuracy: 0.9628\n",
      "Epoch 83/100\n",
      "12/12 [==============================] - 0s 3ms/step - loss: 0.1171 - accuracy: 0.9738 - val_loss: 0.1066 - val_accuracy: 0.9628\n",
      "Epoch 84/100\n",
      "12/12 [==============================] - 0s 3ms/step - loss: 0.1164 - accuracy: 0.9738 - val_loss: 0.1059 - val_accuracy: 0.9628\n",
      "Epoch 85/100\n",
      "12/12 [==============================] - 0s 3ms/step - loss: 0.1158 - accuracy: 0.9738 - val_loss: 0.1052 - val_accuracy: 0.9628\n",
      "Epoch 86/100\n",
      "12/12 [==============================] - 0s 3ms/step - loss: 0.1151 - accuracy: 0.9738 - val_loss: 0.1045 - val_accuracy: 0.9628\n",
      "Epoch 87/100\n",
      "12/12 [==============================] - 0s 3ms/step - loss: 0.1145 - accuracy: 0.9738 - val_loss: 0.1039 - val_accuracy: 0.9628\n",
      "Epoch 88/100\n",
      "12/12 [==============================] - 0s 3ms/step - loss: 0.1138 - accuracy: 0.9764 - val_loss: 0.1032 - val_accuracy: 0.9628\n",
      "Epoch 89/100\n",
      "12/12 [==============================] - 0s 3ms/step - loss: 0.1132 - accuracy: 0.9764 - val_loss: 0.1026 - val_accuracy: 0.9628\n",
      "Epoch 90/100\n",
      "12/12 [==============================] - 0s 3ms/step - loss: 0.1126 - accuracy: 0.9764 - val_loss: 0.1019 - val_accuracy: 0.9681\n",
      "Epoch 91/100\n",
      "12/12 [==============================] - 0s 3ms/step - loss: 0.1120 - accuracy: 0.9764 - val_loss: 0.1013 - val_accuracy: 0.9681\n",
      "Epoch 92/100\n",
      "12/12 [==============================] - 0s 3ms/step - loss: 0.1114 - accuracy: 0.9764 - val_loss: 0.1007 - val_accuracy: 0.9681\n",
      "Epoch 93/100\n",
      "12/12 [==============================] - 0s 3ms/step - loss: 0.1108 - accuracy: 0.9764 - val_loss: 0.1001 - val_accuracy: 0.9681\n",
      "Epoch 94/100\n",
      "12/12 [==============================] - 0s 3ms/step - loss: 0.1103 - accuracy: 0.9764 - val_loss: 0.0995 - val_accuracy: 0.9681\n",
      "Epoch 95/100\n",
      "12/12 [==============================] - 0s 4ms/step - loss: 0.1098 - accuracy: 0.9764 - val_loss: 0.0989 - val_accuracy: 0.9681\n",
      "Epoch 96/100\n",
      "12/12 [==============================] - 0s 3ms/step - loss: 0.1092 - accuracy: 0.9764 - val_loss: 0.0983 - val_accuracy: 0.9681\n",
      "Epoch 97/100\n",
      "12/12 [==============================] - 0s 3ms/step - loss: 0.1087 - accuracy: 0.9764 - val_loss: 0.0978 - val_accuracy: 0.9734\n",
      "Epoch 98/100\n",
      "12/12 [==============================] - 0s 3ms/step - loss: 0.1081 - accuracy: 0.9764 - val_loss: 0.0972 - val_accuracy: 0.9734\n",
      "Epoch 99/100\n",
      "12/12 [==============================] - 0s 3ms/step - loss: 0.1076 - accuracy: 0.9764 - val_loss: 0.0967 - val_accuracy: 0.9734\n",
      "Epoch 100/100\n",
      "12/12 [==============================] - 0s 3ms/step - loss: 0.1071 - accuracy: 0.9764 - val_loss: 0.0961 - val_accuracy: 0.9734\n"
     ]
    }
   ],
   "source": [
    "# Train model\n",
    "r = model.fit(X_train, y_train,\n",
    "             validation_data=(X_test, y_test),\n",
    "             epochs=100)"
   ]
  },
  {
   "cell_type": "code",
   "execution_count": 227,
   "id": "85aad158",
   "metadata": {},
   "outputs": [
    {
     "data": {
      "text/plain": [
       "Text(0.5, 1.0, 'Training Loss')"
      ]
     },
     "execution_count": 227,
     "metadata": {},
     "output_type": "execute_result"
    },
    {
     "data": {
      "image/png": "[encoded data removed]",
      "text/plain": [
       "<Figure size 432x288 with 1 Axes>"
      ]
     },
     "metadata": {
      "needs_background": "light"
     },
     "output_type": "display_data"
    }
   ],
   "source": [
    "# Plot training data\n",
    "plt.plot(r.history['loss'], label='loss')\n",
    "plt.plot(r.history['val_loss'], label='val_loss')\n",
    "plt.legend()\n",
    "plt.title('Training Loss')"
   ]
  },
  {
   "cell_type": "code",
   "execution_count": 228,
   "id": "ffd09bcc",
   "metadata": {},
   "outputs": [
    {
     "data": {
      "text/plain": [
       "Text(0.5, 1.0, 'Training Accuracy')"
      ]
     },
     "execution_count": 228,
     "metadata": {},
     "output_type": "execute_result"
    },
    {
     "data": {
      "image/png": "[encoded data removed]",
      "text/plain": [
       "<Figure size 432x288 with 1 Axes>"
      ]
     },
     "metadata": {
      "needs_background": "light"
     },
     "output_type": "display_data"
    }
   ],
   "source": [
    "# Plot accuracy data\n",
    "plt.plot(r.history['accuracy'], label='accuracy')\n",
    "plt.plot(r.history['val_accuracy'], label='val_accuracy')\n",
    "plt.legend()\n",
    "plt.title('Training Accuracy')"
   ]
  },
  {
   "cell_type": "markdown",
   "id": "9756f741",
   "metadata": {},
   "source": [
    "### Making Predictions"
   ]
  },
  {
   "cell_type": "code",
   "execution_count": 229,
   "id": "eb67ebe9",
   "metadata": {},
   "outputs": [
    {
     "data": {
      "text/plain": [
       "array([[8.33757043e-01],\n",
       "       [4.30217385e-03],\n",
       "       [6.41595721e-02],\n",
       "       [9.65329945e-01],\n",
       "       [9.94484246e-01],\n",
       "       [5.43751128e-07],\n",
       "       [1.08357044e-05],\n",
       "       [1.12936169e-01],\n",
       "       [5.30200005e-01],\n",
       "       [9.84212875e-01],\n",
       "       [8.90070319e-01],\n",
       "       [1.42612457e-01],\n",
       "       [9.38667059e-01],\n",
       "       [1.45036340e-01],\n",
       "       [9.88948286e-01],\n",
       "       [1.07902288e-03],\n",
       "       [9.75411892e-01],\n",
       "       [9.97270405e-01],\n",
       "       [9.99665737e-01],\n",
       "       [3.19212675e-04],\n",
       "       [7.13017464e-01],\n",
       "       [9.40057039e-01],\n",
       "       [1.12160824e-05],\n",
       "       [9.96940851e-01],\n",
       "       [9.78912711e-01],\n",
       "       [9.69144702e-01],\n",
       "       [9.82687473e-01],\n",
       "       [9.66809034e-01],\n",
       "       [9.59797382e-01],\n",
       "       [1.01286173e-03],\n",
       "       [9.76132393e-01],\n",
       "       [9.95674253e-01],\n",
       "       [9.80634332e-01],\n",
       "       [9.58538711e-01],\n",
       "       [9.92917657e-01],\n",
       "       [9.83271003e-01],\n",
       "       [3.30239683e-01],\n",
       "       [9.87730145e-01],\n",
       "       [1.20079517e-02],\n",
       "       [7.58465469e-01],\n",
       "       [9.92774844e-01],\n",
       "       [3.94989848e-02],\n",
       "       [9.56254721e-01],\n",
       "       [9.86013889e-01],\n",
       "       [9.08969522e-01],\n",
       "       [9.42564189e-01],\n",
       "       [9.85806167e-01],\n",
       "       [9.92271006e-01],\n",
       "       [9.11266983e-01],\n",
       "       [9.83110547e-01],\n",
       "       [2.13171542e-02],\n",
       "       [1.30891800e-04],\n",
       "       [4.38235164e-01],\n",
       "       [8.18539977e-01],\n",
       "       [9.89714265e-01],\n",
       "       [9.67335343e-01],\n",
       "       [9.93236184e-01],\n",
       "       [1.20036546e-07],\n",
       "       [3.56132269e-01],\n",
       "       [9.95334744e-01],\n",
       "       [9.48391378e-01],\n",
       "       [3.44991684e-04],\n",
       "       [4.64025106e-05],\n",
       "       [8.67799103e-01],\n",
       "       [9.89763141e-01],\n",
       "       [8.65788937e-01],\n",
       "       [2.99727917e-03],\n",
       "       [1.54960424e-06],\n",
       "       [9.88626361e-01],\n",
       "       [8.80289435e-01],\n",
       "       [4.55537438e-02],\n",
       "       [4.45666611e-02],\n",
       "       [9.65383351e-01],\n",
       "       [3.38323712e-02],\n",
       "       [9.98452783e-01],\n",
       "       [9.00931001e-01],\n",
       "       [9.05853450e-01],\n",
       "       [4.99467134e-01],\n",
       "       [9.98641014e-01],\n",
       "       [9.26258326e-01],\n",
       "       [5.31339645e-02],\n",
       "       [9.97439504e-01],\n",
       "       [4.09019172e-01],\n",
       "       [9.35300923e-05],\n",
       "       [6.18160963e-02],\n",
       "       [9.17088985e-03],\n",
       "       [4.42826748e-03],\n",
       "       [4.34160233e-03],\n",
       "       [9.81102347e-01],\n",
       "       [9.57747281e-01],\n",
       "       [9.72826719e-01],\n",
       "       [6.73771024e-01],\n",
       "       [7.05710113e-01],\n",
       "       [9.88988578e-01],\n",
       "       [9.88756299e-01],\n",
       "       [9.95181799e-01],\n",
       "       [4.54962254e-04],\n",
       "       [1.27029419e-03],\n",
       "       [9.97224450e-01],\n",
       "       [2.25268602e-02],\n",
       "       [1.05985165e-01],\n",
       "       [9.99663472e-01],\n",
       "       [2.60579586e-03],\n",
       "       [1.30575299e-02],\n",
       "       [9.59904313e-01],\n",
       "       [8.81607473e-01],\n",
       "       [9.31890309e-01],\n",
       "       [1.51937202e-05],\n",
       "       [7.52884865e-01],\n",
       "       [9.02131200e-01],\n",
       "       [8.45165253e-02],\n",
       "       [9.85899806e-01],\n",
       "       [4.22137558e-01],\n",
       "       [4.71619524e-06],\n",
       "       [9.57014084e-01],\n",
       "       [3.12814996e-06],\n",
       "       [9.99027729e-01],\n",
       "       [9.29663837e-01],\n",
       "       [9.96644616e-01],\n",
       "       [3.98972631e-03],\n",
       "       [9.77571249e-01],\n",
       "       [9.90930319e-01],\n",
       "       [9.71954346e-01],\n",
       "       [2.76041031e-03],\n",
       "       [8.59022379e-01],\n",
       "       [3.79532576e-04],\n",
       "       [2.24897265e-02],\n",
       "       [9.92877603e-01],\n",
       "       [9.83438492e-01],\n",
       "       [3.82512808e-04],\n",
       "       [6.28510679e-05],\n",
       "       [5.19067049e-04],\n",
       "       [9.59548235e-01],\n",
       "       [9.85582709e-01],\n",
       "       [9.36406732e-01],\n",
       "       [3.05523574e-02],\n",
       "       [6.86548531e-01],\n",
       "       [9.74357486e-01],\n",
       "       [5.13564765e-01],\n",
       "       [6.85913861e-02],\n",
       "       [9.78809357e-01],\n",
       "       [2.27093697e-04],\n",
       "       [9.97845292e-01],\n",
       "       [9.98292506e-01],\n",
       "       [6.39655292e-02],\n",
       "       [9.77563202e-01],\n",
       "       [1.44556165e-03],\n",
       "       [7.07089901e-04],\n",
       "       [3.99404138e-01],\n",
       "       [9.90161896e-01],\n",
       "       [3.73814344e-01],\n",
       "       [9.95108128e-01],\n",
       "       [9.99396503e-01],\n",
       "       [9.00002718e-01],\n",
       "       [9.85795915e-01],\n",
       "       [7.95902295e-08],\n",
       "       [2.23386288e-03],\n",
       "       [9.99188423e-01],\n",
       "       [9.33720469e-01],\n",
       "       [9.98528242e-01],\n",
       "       [9.99704957e-01],\n",
       "       [9.93184328e-01],\n",
       "       [9.97788072e-01],\n",
       "       [9.56454933e-01],\n",
       "       [3.03247809e-01],\n",
       "       [9.87289906e-01],\n",
       "       [9.86829758e-01],\n",
       "       [6.34701490e-01],\n",
       "       [9.97606039e-01],\n",
       "       [5.56899309e-02],\n",
       "       [9.23113644e-01],\n",
       "       [9.78570759e-01],\n",
       "       [9.87344027e-01],\n",
       "       [4.88822311e-01],\n",
       "       [9.84321952e-01],\n",
       "       [8.70907187e-01],\n",
       "       [2.70305306e-01],\n",
       "       [8.30987334e-01],\n",
       "       [9.83499765e-01],\n",
       "       [8.67502272e-01],\n",
       "       [7.73814440e-01],\n",
       "       [9.59898353e-01],\n",
       "       [9.94500160e-01],\n",
       "       [1.37639105e-01],\n",
       "       [1.14318132e-02],\n",
       "       [1.11305237e-01],\n",
       "       [3.28381628e-01],\n",
       "       [9.07549083e-01]], dtype=float32)"
      ]
     },
     "execution_count": 229,
     "metadata": {},
     "output_type": "execute_result"
    }
   ],
   "source": [
    "P = model.predict(X_test)\n",
    "P"
   ]
  },
  {
   "cell_type": "code",
   "execution_count": 230,
   "id": "449fb5ff",
   "metadata": {},
   "outputs": [
    {
     "data": {
      "text/plain": [
       "array([1., 0., 0., 1., 1., 0., 0., 0., 1., 1., 1., 0., 1., 0., 1., 0., 1.,\n",
       "       1., 1., 0., 1., 1., 0., 1., 1., 1., 1., 1., 1., 0., 1., 1., 1., 1.,\n",
       "       1., 1., 0., 1., 0., 1., 1., 0., 1., 1., 1., 1., 1., 1., 1., 1., 0.,\n",
       "       0., 0., 1., 1., 1., 1., 0., 0., 1., 1., 0., 0., 1., 1., 1., 0., 0.,\n",
       "       1., 1., 0., 0., 1., 0., 1., 1., 1., 0., 1., 1., 0., 1., 0., 0., 0.,\n",
       "       0., 0., 0., 1., 1., 1., 1., 1., 1., 1., 1., 0., 0., 1., 0., 0., 1.,\n",
       "       0., 0., 1., 1., 1., 0., 1., 1., 0., 1., 0., 0., 1., 0., 1., 1., 1.,\n",
       "       0., 1., 1., 1., 0., 1., 0., 0., 1., 1., 0., 0., 0., 1., 1., 1., 0.,\n",
       "       1., 1., 1., 0., 1., 0., 1., 1., 0., 1., 0., 0., 0., 1., 0., 1., 1.,\n",
       "       1., 1., 0., 0., 1., 1., 1., 1., 1., 1., 1., 0., 1., 1., 1., 1., 0.,\n",
       "       1., 1., 1., 0., 1., 1., 0., 1., 1., 1., 1., 1., 1., 0., 0., 0., 0.,\n",
       "       1.], dtype=float32)"
      ]
     },
     "execution_count": 230,
     "metadata": {},
     "output_type": "execute_result"
    }
   ],
   "source": [
    "# round probabilities and flatten to a vector\n",
    "P = np.round(P).flatten()\n",
    "P"
   ]
  },
  {
   "cell_type": "code",
   "execution_count": 231,
   "id": "a2d165d5",
   "metadata": {},
   "outputs": [
    {
     "name": "stdout",
     "output_type": "stream",
     "text": [
      "Manually calculatted accuracy: 0.973404255319149\n",
      "6/6 [==============================] - 0s 2ms/step - loss: 0.0961 - accuracy: 0.9734\n",
      "Evaluate output: [0.096146360039711, 0.9734042286872864]\n"
     ]
    }
   ],
   "source": [
    "# calculate accuracy\n",
    "print('Manually calculatted accuracy:', np.mean(P == y_test))\n",
    "print('Evaluate output:', model.evaluate(X_test, y_test))"
   ]
  },
  {
   "cell_type": "markdown",
   "id": "09b2ac15",
   "metadata": {},
   "source": [
    "### Saving and loading a model"
   ]
  },
  {
   "cell_type": "code",
   "execution_count": 232,
   "id": "07816978",
   "metadata": {},
   "outputs": [],
   "source": [
    "# save model\n",
    "model.save('linear_classifier_model.h5')"
   ]
  },
  {
   "cell_type": "code",
   "execution_count": 233,
   "id": "a51d063b",
   "metadata": {},
   "outputs": [
    {
     "name": "stdout",
     "output_type": "stream",
     "text": [
      "[<keras.layers.core.dense.Dense object at 0x00000204C10F8070>]\n",
      "6/6 [==============================] - 0s 1ms/step - loss: 0.0961 - accuracy: 0.9734\n"
     ]
    },
    {
     "data": {
      "text/plain": [
       "[0.096146360039711, 0.9734042286872864]"
      ]
     },
     "execution_count": 233,
     "metadata": {},
     "output_type": "execute_result"
    }
   ],
   "source": [
    "# load model\n",
    "model = tf.keras.models.load_model('linear_classifier_model.h5')\n",
    "print(model.layers)\n",
    "model.evaluate(X_test, y_test)"
   ]
  },
  {
   "cell_type": "markdown",
   "id": "5d28b6eb",
   "metadata": {},
   "source": [
    "## Linear Regression Example"
   ]
  },
  {
   "cell_type": "code",
   "execution_count": 234,
   "id": "a260ab15",
   "metadata": {},
   "outputs": [],
   "source": [
    "# Predict Moore's Law\n",
    "# !wget https://raw.githubusercontent.com/lazyprogrammer/machine_learning_examples/master/tf2.0/moore.csv"
   ]
  },
  {
   "cell_type": "code",
   "execution_count": 235,
   "id": "cc6d97d0",
   "metadata": {},
   "outputs": [],
   "source": [
    "import pandas as pd\n",
    "import numpy as np"
   ]
  },
  {
   "cell_type": "code",
   "execution_count": 236,
   "id": "7ddfc36f",
   "metadata": {},
   "outputs": [
    {
     "data": {
      "text/plain": [
       "array([[       1971,        2300],\n",
       "       [       1972,        3500],\n",
       "       [       1973,        2500],\n",
       "       [       1973,        2500],\n",
       "       [       1974,        4100],\n",
       "       [       1974,        4500],\n",
       "       [       1974,        8000],\n",
       "       [       1975,        3510],\n",
       "       [       1976,        5000],\n",
       "       [       1976,        8500],\n",
       "       [       1976,        6500],\n",
       "       [       1978,        9000],\n",
       "       [       1978,       29000],\n",
       "       [       1979,       17500],\n",
       "       [       1979,       29000],\n",
       "       [       1979,       68000],\n",
       "       [       1981,       11500],\n",
       "       [       1982,       55000],\n",
       "       [       1982,      134000],\n",
       "       [       1983,       22000],\n",
       "       [       1984,       63000],\n",
       "       [       1984,      190000],\n",
       "       [       1985,      275000],\n",
       "       [       1985,       25000],\n",
       "       [       1985,       16000],\n",
       "       [       1986,      110000],\n",
       "       [       1986,      375000],\n",
       "       [       1986,       30000],\n",
       "       [       1987,      385000],\n",
       "       [       1987,      730000],\n",
       "       [       1987,      273000],\n",
       "       [       1987,      553000],\n",
       "       [       1988,      180000],\n",
       "       [       1988,      250000],\n",
       "       [       1989,      600000],\n",
       "       [       1989,     1000000],\n",
       "       [       1989,     1180235],\n",
       "       [       1989,      310000],\n",
       "       [       1990,     1200000],\n",
       "       [       1991,     1350000],\n",
       "       [       1991,       35000],\n",
       "       [       1992,      600000],\n",
       "       [       1992,      900000],\n",
       "       [       1993,     2800000],\n",
       "       [       1993,     3100000],\n",
       "       [       1994,      578977],\n",
       "       [       1994,     2500000],\n",
       "       [       1995,     2500000],\n",
       "       [       1999,      111000],\n",
       "       [       1995,     5500000],\n",
       "       [       1996,     4300000],\n",
       "       [       1997,    10000000],\n",
       "       [       1997,     7500000],\n",
       "       [       1997,     8800000],\n",
       "       [       1998,     7500000],\n",
       "       [       1999,     9500000],\n",
       "       [       1999,    13500000],\n",
       "       [       2000,    21000000],\n",
       "       [       2000,    21000000],\n",
       "       [       1999,    27400000],\n",
       "       [       1999,    21300000],\n",
       "       [       1999,    22000000],\n",
       "       [       2000,    42000000],\n",
       "       [       2001,   191000000],\n",
       "       [       2001,    45000000],\n",
       "       [       2002,    55000000],\n",
       "       [       2004,   112000000],\n",
       "       [       2004,   400000000],\n",
       "       [       2005,   169000000],\n",
       "       [       2006,   184000000],\n",
       "       [       2005,   228000000],\n",
       "       [       2006,   362000000],\n",
       "       [       2007,   540000000],\n",
       "       [       2008,    47000000],\n",
       "       [       2003,    54300000],\n",
       "       [       2003,   105900000],\n",
       "       [       2002,   220000000],\n",
       "       [       2005,   165000000],\n",
       "       [       2005,   250000000],\n",
       "       [       2006,   291000000],\n",
       "       [       2007,   169000000],\n",
       "       [       2003,   410000000],\n",
       "       [       2008,   600000000],\n",
       "       [       2009,   760000000],\n",
       "       [       2011,  1870000000],\n",
       "       [       2012,   432000000],\n",
       "       [       2007,   463000000],\n",
       "       [       2007,    26000000],\n",
       "       [       2008,   230000000],\n",
       "       [       2004,   592000000],\n",
       "       [       2007,   411000000],\n",
       "       [       2008,   731000000],\n",
       "       [       2008,   758000000],\n",
       "       [       2007,   789000000],\n",
       "       [       2009,   904000000],\n",
       "       [       2010,  1000000000],\n",
       "       [       2012,  2990000000],\n",
       "       [       2013,  1000000000],\n",
       "       [       2011,  1160000000],\n",
       "       [       2010,  1170000000],\n",
       "       [       2010,  1200000000],\n",
       "       [       2012,  1200000000],\n",
       "       [       2012,  1303000000],\n",
       "       [       2010,  1400000000],\n",
       "       [       2012,  1400000000],\n",
       "       [       2014,  1400000000],\n",
       "       [       2006,  1700000000],\n",
       "       [       2015,  1750000000],\n",
       "       [       2013,  1860000000],\n",
       "       [       2015,  1900000000],\n",
       "       [       2008,  1900000000],\n",
       "       [       2010,  2000000000],\n",
       "       [       2014,  2000000000],\n",
       "       [       2015,  2000000000],\n",
       "       [       2015,  3000000000],\n",
       "       [       2012,  2100000000],\n",
       "       [       2011,  2270000000],\n",
       "       [       2010,  2300000000],\n",
       "       [       2014,  2600000000],\n",
       "       [       2011,  2600000000],\n",
       "       [       2012,  2750000000],\n",
       "       [       2014,  3000000000],\n",
       "       [       2016,  3000000000],\n",
       "       [       2017,  5300000000],\n",
       "       [       2017,  5300000000],\n",
       "       [       2018,  8500000000],\n",
       "       [       2012,  3100000000],\n",
       "       [       2016,  3200000000],\n",
       "       [       2016,  3300000000],\n",
       "       [       2015,  3990000000],\n",
       "       [       2013,  4200000000],\n",
       "       [       2017,  4300000000],\n",
       "       [       2014,  4310000000],\n",
       "       [       2017,  4800000000],\n",
       "       [       2017,  4800000000],\n",
       "       [       2017,  4800000000],\n",
       "       [       2012,  5000000000],\n",
       "       [       2013,  5000000000],\n",
       "       [       2014,  5560000000],\n",
       "       [       2017,  6100000000],\n",
       "       [       2018,  6900000000],\n",
       "       [       2016,  4000000000],\n",
       "       [       2018,  6900000000],\n",
       "       [       2017,  5500000000],\n",
       "       [       2018,  5500000000],\n",
       "       [       2017,  7000000000],\n",
       "       [       2015,  7100000000],\n",
       "       [       2017,  8000000000],\n",
       "       [       2016,  7200000000],\n",
       "       [       2017,  8000000000],\n",
       "       [       2016,  8000000000],\n",
       "       [       2017,  9700000000],\n",
       "       [       2017,   250000000],\n",
       "       [       2015, 10000000000],\n",
       "       [       2017,  5450000000],\n",
       "       [       2018, 10000000000],\n",
       "       [       2017,  4300000000],\n",
       "       [       2017, 18000000000],\n",
       "       [       2017, 19200000000],\n",
       "       [       2018,  8876000000],\n",
       "       [       2018, 23600000000],\n",
       "       [       2018,  9000000000]], dtype=int64)"
      ]
     },
     "execution_count": 236,
     "metadata": {},
     "output_type": "execute_result"
    }
   ],
   "source": [
    "# import data\n",
    "data = pd.read_csv('moore.csv', header=None).values\n",
    "data"
   ]
  },
  {
   "cell_type": "code",
   "execution_count": 237,
   "id": "724359c8",
   "metadata": {},
   "outputs": [],
   "source": [
    "# reshape data into a 2D array of size N x D where D=1 (this is what Keras and Tensorflow expects)\n",
    "X = data[:,0].reshape(-1, 1)\n",
    "y = data[:,1]"
   ]
  },
  {
   "cell_type": "code",
   "execution_count": 238,
   "id": "9c78e00c",
   "metadata": {},
   "outputs": [
    {
     "data": {
      "text/plain": [
       "Text(0.5, 1.0, \"Moore's Law: Exponential\")"
      ]
     },
     "execution_count": 238,
     "metadata": {},
     "output_type": "execute_result"
    },
    {
     "data": {
      "image/png": "[encoded data removed]",
      "text/plain": [
       "<Figure size 432x288 with 1 Axes>"
      ]
     },
     "metadata": {
      "needs_background": "light"
     },
     "output_type": "display_data"
    }
   ],
   "source": [
    "# plot data\n",
    "plt.scatter(X, y)\n",
    "plt.title(\"Moore's Law: Exponential\")"
   ]
  },
  {
   "cell_type": "code",
   "execution_count": 239,
   "id": "0c370fef",
   "metadata": {},
   "outputs": [
    {
     "data": {
      "text/plain": [
       "Text(0.5, 1.0, \"Moore's Law: Log scale\")"
      ]
     },
     "execution_count": 239,
     "metadata": {},
     "output_type": "execute_result"
    },
    {
     "data": {
      "image/png": "[encoded data removed]",
      "text/plain": [
       "<Figure size 432x288 with 1 Axes>"
      ]
     },
     "metadata": {
      "needs_background": "light"
     },
     "output_type": "display_data"
    }
   ],
   "source": [
    "# plot logarithmic data\n",
    "plt.scatter(X, np.log(y))\n",
    "plt.title(\"Moore's Law: Log scale\")"
   ]
  },
  {
   "cell_type": "markdown",
   "id": "f2d171da",
   "metadata": {},
   "source": [
    "### Build Neural Network"
   ]
  },
  {
   "cell_type": "code",
   "execution_count": 240,
   "id": "53d51b35",
   "metadata": {},
   "outputs": [],
   "source": [
    "# training data's shape (D = 1 for this case, only 1 feature)\n",
    "N, D = X.shape"
   ]
  },
  {
   "cell_type": "code",
   "execution_count": 241,
   "id": "09536f29",
   "metadata": {},
   "outputs": [],
   "source": [
    "# Remove mean from X data for scalability\n",
    "X = X - X.mean()\n",
    "\n",
    "# take natural logarithm of target\n",
    "y = np.log(y)"
   ]
  },
  {
   "cell_type": "code",
   "execution_count": 242,
   "id": "912882b7",
   "metadata": {},
   "outputs": [],
   "source": [
    "# Create function to describe learning rate\n",
    "def schedule(epoch, lr):\n",
    "    if epoch >= 50:\n",
    "        return 0.0001\n",
    "    return 0.001\n",
    "\n",
    "scheduler = tf.keras.callbacks.LearningRateScheduler(schedule)"
   ]
  },
  {
   "cell_type": "code",
   "execution_count": 243,
   "id": "eacd8b21",
   "metadata": {},
   "outputs": [
    {
     "name": "stdout",
     "output_type": "stream",
     "text": [
      "Epoch 1/200\n",
      "6/6 [==============================] - 0s 1ms/step - loss: 379.2493 - lr: 0.0010\n",
      "Epoch 2/200\n",
      "6/6 [==============================] - 0s 1ms/step - loss: 341.9944 - lr: 0.0010\n",
      "Epoch 3/200\n",
      "6/6 [==============================] - 0s 1ms/step - loss: 281.9667 - lr: 0.0010\n",
      "Epoch 4/200\n",
      "6/6 [==============================] - 0s 1ms/step - loss: 219.7300 - lr: 0.0010\n",
      "Epoch 5/200\n",
      "6/6 [==============================] - 0s 1ms/step - loss: 177.4134 - lr: 0.0010\n",
      "Epoch 6/200\n",
      "6/6 [==============================] - 0s 1ms/step - loss: 176.3255 - lr: 0.0010\n",
      "Epoch 7/200\n",
      "6/6 [==============================] - 0s 1ms/step - loss: 105.2185 - lr: 0.0010\n",
      "Epoch 8/200\n",
      "6/6 [==============================] - 0s 1ms/step - loss: 116.2294 - lr: 0.0010\n",
      "Epoch 9/200\n",
      "6/6 [==============================] - 0s 1ms/step - loss: 57.4119 - lr: 0.0010\n",
      "Epoch 10/200\n",
      "6/6 [==============================] - 0s 879us/step - loss: 47.5921 - lr: 0.0010\n",
      "Epoch 11/200\n",
      "6/6 [==============================] - 0s 1ms/step - loss: 35.3677 - lr: 0.0010\n",
      "Epoch 12/200\n",
      "6/6 [==============================] - 0s 1ms/step - loss: 26.2444 - lr: 0.0010\n",
      "Epoch 13/200\n",
      "6/6 [==============================] - 0s 1ms/step - loss: 25.9537 - lr: 0.0010\n",
      "Epoch 14/200\n",
      "6/6 [==============================] - 0s 1ms/step - loss: 16.3640 - lr: 0.0010\n",
      "Epoch 15/200\n",
      "6/6 [==============================] - 0s 1ms/step - loss: 10.8620 - lr: 0.0010\n",
      "Epoch 16/200\n",
      "6/6 [==============================] - 0s 1ms/step - loss: 6.2163 - lr: 0.0010\n",
      "Epoch 17/200\n",
      "6/6 [==============================] - 0s 1ms/step - loss: 4.4003 - lr: 0.0010\n",
      "Epoch 18/200\n",
      "6/6 [==============================] - 0s 1ms/step - loss: 4.0631 - lr: 0.0010\n",
      "Epoch 19/200\n",
      "6/6 [==============================] - 0s 1ms/step - loss: 2.9962 - lr: 0.0010\n",
      "Epoch 20/200\n",
      "6/6 [==============================] - 0s 830us/step - loss: 2.3246 - lr: 0.0010\n",
      "Epoch 21/200\n",
      "6/6 [==============================] - 0s 1ms/step - loss: 2.0375 - lr: 0.0010\n",
      "Epoch 22/200\n",
      "6/6 [==============================] - 0s 1ms/step - loss: 1.5956 - lr: 0.0010\n",
      "Epoch 23/200\n",
      "6/6 [==============================] - 0s 945us/step - loss: 1.7337 - lr: 0.0010\n",
      "Epoch 24/200\n",
      "6/6 [==============================] - 0s 1ms/step - loss: 1.3638 - lr: 0.0010\n",
      "Epoch 25/200\n",
      "6/6 [==============================] - 0s 931us/step - loss: 1.2721 - lr: 0.0010\n",
      "Epoch 26/200\n",
      "6/6 [==============================] - 0s 1ms/step - loss: 1.3906 - lr: 0.0010\n",
      "Epoch 27/200\n",
      "6/6 [==============================] - 0s 1ms/step - loss: 1.1367 - lr: 0.0010\n",
      "Epoch 28/200\n",
      "6/6 [==============================] - 0s 1ms/step - loss: 1.1489 - lr: 0.0010\n",
      "Epoch 29/200\n",
      "6/6 [==============================] - 0s 1ms/step - loss: 1.0687 - lr: 0.0010\n",
      "Epoch 30/200\n",
      "6/6 [==============================] - 0s 1ms/step - loss: 1.0310 - lr: 0.0010\n",
      "Epoch 31/200\n",
      "6/6 [==============================] - 0s 1ms/step - loss: 1.2684 - lr: 0.0010\n",
      "Epoch 32/200\n",
      "6/6 [==============================] - 0s 1ms/step - loss: 0.9765 - lr: 0.0010\n",
      "Epoch 33/200\n",
      "6/6 [==============================] - 0s 2ms/step - loss: 1.2100 - lr: 0.0010\n",
      "Epoch 34/200\n",
      "6/6 [==============================] - 0s 1ms/step - loss: 1.1853 - lr: 0.0010\n",
      "Epoch 35/200\n",
      "6/6 [==============================] - 0s 1ms/step - loss: 1.0992 - lr: 0.0010\n",
      "Epoch 36/200\n",
      "6/6 [==============================] - 0s 2ms/step - loss: 1.0833 - lr: 0.0010\n",
      "Epoch 37/200\n",
      "6/6 [==============================] - 0s 1ms/step - loss: 1.1011 - lr: 0.0010\n",
      "Epoch 38/200\n",
      "6/6 [==============================] - 0s 1ms/step - loss: 1.0665 - lr: 0.0010\n",
      "Epoch 39/200\n",
      "6/6 [==============================] - 0s 960us/step - loss: 0.9970 - lr: 0.0010\n",
      "Epoch 40/200\n",
      "6/6 [==============================] - 0s 956us/step - loss: 1.2210 - lr: 0.0010\n",
      "Epoch 41/200\n",
      "6/6 [==============================] - 0s 849us/step - loss: 1.1375 - lr: 0.0010\n",
      "Epoch 42/200\n",
      "6/6 [==============================] - 0s 1ms/step - loss: 1.0471 - lr: 0.0010\n",
      "Epoch 43/200\n",
      "6/6 [==============================] - 0s 857us/step - loss: 0.9595 - lr: 0.0010\n",
      "Epoch 44/200\n",
      "6/6 [==============================] - 0s 906us/step - loss: 0.8986 - lr: 0.0010\n",
      "Epoch 45/200\n",
      "6/6 [==============================] - 0s 639us/step - loss: 0.8938 - lr: 0.0010\n",
      "Epoch 46/200\n",
      "6/6 [==============================] - 0s 873us/step - loss: 0.9148 - lr: 0.0010\n",
      "Epoch 47/200\n",
      "6/6 [==============================] - 0s 884us/step - loss: 0.8819 - lr: 0.0010\n",
      "Epoch 48/200\n",
      "6/6 [==============================] - 0s 930us/step - loss: 0.8795 - lr: 0.0010\n",
      "Epoch 49/200\n",
      "6/6 [==============================] - 0s 983us/step - loss: 0.8744 - lr: 0.0010\n",
      "Epoch 50/200\n",
      "6/6 [==============================] - 0s 905us/step - loss: 0.8872 - lr: 0.0010\n",
      "Epoch 51/200\n",
      "6/6 [==============================] - 0s 1ms/step - loss: 0.8692 - lr: 1.0000e-04\n",
      "Epoch 52/200\n",
      "6/6 [==============================] - 0s 1ms/step - loss: 0.9131 - lr: 1.0000e-04\n",
      "Epoch 53/200\n",
      "6/6 [==============================] - 0s 990us/step - loss: 0.8939 - lr: 1.0000e-04\n",
      "Epoch 54/200\n",
      "6/6 [==============================] - 0s 853us/step - loss: 0.8724 - lr: 1.0000e-04\n",
      "Epoch 55/200\n",
      "6/6 [==============================] - 0s 985us/step - loss: 0.8710 - lr: 1.0000e-04\n",
      "Epoch 56/200\n",
      "6/6 [==============================] - 0s 992us/step - loss: 0.8698 - lr: 1.0000e-04\n",
      "Epoch 57/200\n",
      "6/6 [==============================] - 0s 1ms/step - loss: 0.8721 - lr: 1.0000e-04\n",
      "Epoch 58/200\n",
      "6/6 [==============================] - 0s 850us/step - loss: 0.8713 - lr: 1.0000e-04\n",
      "Epoch 59/200\n",
      "6/6 [==============================] - 0s 1ms/step - loss: 0.8725 - lr: 1.0000e-04\n",
      "Epoch 60/200\n",
      "6/6 [==============================] - 0s 742us/step - loss: 0.8719 - lr: 1.0000e-04\n",
      "Epoch 61/200\n",
      "6/6 [==============================] - 0s 1ms/step - loss: 0.8850 - lr: 1.0000e-04\n",
      "Epoch 62/200\n",
      "6/6 [==============================] - 0s 609us/step - loss: 0.9300 - lr: 1.0000e-04\n",
      "Epoch 63/200\n",
      "6/6 [==============================] - 0s 753us/step - loss: 0.8900 - lr: 1.0000e-04\n",
      "Epoch 64/200\n",
      "6/6 [==============================] - 0s 782us/step - loss: 0.8771 - lr: 1.0000e-04\n",
      "Epoch 65/200\n",
      "6/6 [==============================] - 0s 989us/step - loss: 0.8972 - lr: 1.0000e-04\n",
      "Epoch 66/200\n",
      "6/6 [==============================] - 0s 842us/step - loss: 0.8893 - lr: 1.0000e-04\n",
      "Epoch 67/200\n",
      "6/6 [==============================] - 0s 1ms/step - loss: 0.8975 - lr: 1.0000e-04\n",
      "Epoch 68/200\n",
      "6/6 [==============================] - 0s 798us/step - loss: 0.9199 - lr: 1.0000e-04\n",
      "Epoch 69/200\n",
      "6/6 [==============================] - 0s 876us/step - loss: 0.8785 - lr: 1.0000e-04\n",
      "Epoch 70/200\n",
      "6/6 [==============================] - 0s 929us/step - loss: 0.8734 - lr: 1.0000e-04\n",
      "Epoch 71/200\n",
      "6/6 [==============================] - 0s 811us/step - loss: 0.8714 - lr: 1.0000e-04\n",
      "Epoch 72/200\n",
      "6/6 [==============================] - 0s 1ms/step - loss: 0.8722 - lr: 1.0000e-04\n",
      "Epoch 73/200\n",
      "6/6 [==============================] - 0s 927us/step - loss: 0.8718 - lr: 1.0000e-04\n",
      "Epoch 74/200\n",
      "6/6 [==============================] - 0s 829us/step - loss: 0.8768 - lr: 1.0000e-04\n",
      "Epoch 75/200\n",
      "6/6 [==============================] - 0s 802us/step - loss: 0.8719 - lr: 1.0000e-04\n",
      "Epoch 76/200\n",
      "6/6 [==============================] - 0s 1ms/step - loss: 0.8775 - lr: 1.0000e-04\n",
      "Epoch 77/200\n",
      "6/6 [==============================] - 0s 791us/step - loss: 0.8727 - lr: 1.0000e-04\n",
      "Epoch 78/200\n",
      "6/6 [==============================] - 0s 1ms/step - loss: 0.8769 - lr: 1.0000e-04\n",
      "Epoch 79/200\n",
      "6/6 [==============================] - 0s 613us/step - loss: 0.8767 - lr: 1.0000e-04\n",
      "Epoch 80/200\n",
      "6/6 [==============================] - 0s 928us/step - loss: 0.8725 - lr: 1.0000e-04\n",
      "Epoch 81/200\n",
      "6/6 [==============================] - 0s 933us/step - loss: 0.8722 - lr: 1.0000e-04\n",
      "Epoch 82/200\n",
      "6/6 [==============================] - 0s 929us/step - loss: 0.8767 - lr: 1.0000e-04\n",
      "Epoch 83/200\n",
      "6/6 [==============================] - 0s 1ms/step - loss: 0.8771 - lr: 1.0000e-04\n",
      "Epoch 84/200\n",
      "6/6 [==============================] - 0s 806us/step - loss: 0.8752 - lr: 1.0000e-04\n",
      "Epoch 85/200\n",
      "6/6 [==============================] - 0s 941us/step - loss: 0.8736 - lr: 1.0000e-04\n",
      "Epoch 86/200\n",
      "6/6 [==============================] - 0s 600us/step - loss: 0.8781 - lr: 1.0000e-04\n",
      "Epoch 87/200\n"
     ]
    },
    {
     "name": "stdout",
     "output_type": "stream",
     "text": [
      "6/6 [==============================] - 0s 764us/step - loss: 0.8778 - lr: 1.0000e-04\n",
      "Epoch 88/200\n",
      "6/6 [==============================] - 0s 735us/step - loss: 0.8735 - lr: 1.0000e-04\n",
      "Epoch 89/200\n",
      "6/6 [==============================] - 0s 913us/step - loss: 0.8718 - lr: 1.0000e-04\n",
      "Epoch 90/200\n",
      "6/6 [==============================] - 0s 828us/step - loss: 0.8704 - lr: 1.0000e-04\n",
      "Epoch 91/200\n",
      "6/6 [==============================] - 0s 880us/step - loss: 0.8708 - lr: 1.0000e-04\n",
      "Epoch 92/200\n",
      "6/6 [==============================] - 0s 806us/step - loss: 0.8719 - lr: 1.0000e-04\n",
      "Epoch 93/200\n",
      "6/6 [==============================] - 0s 800us/step - loss: 0.8735 - lr: 1.0000e-04\n",
      "Epoch 94/200\n",
      "6/6 [==============================] - 0s 783us/step - loss: 0.8781 - lr: 1.0000e-04\n",
      "Epoch 95/200\n",
      "6/6 [==============================] - 0s 910us/step - loss: 0.8751 - lr: 1.0000e-04\n",
      "Epoch 96/200\n",
      "6/6 [==============================] - 0s 963us/step - loss: 0.8706 - lr: 1.0000e-04\n",
      "Epoch 97/200\n",
      "6/6 [==============================] - 0s 1ms/step - loss: 0.8712 - lr: 1.0000e-04\n",
      "Epoch 98/200\n",
      "6/6 [==============================] - 0s 886us/step - loss: 0.8770 - lr: 1.0000e-04\n",
      "Epoch 99/200\n",
      "6/6 [==============================] - 0s 771us/step - loss: 0.8777 - lr: 1.0000e-04\n",
      "Epoch 100/200\n",
      "6/6 [==============================] - 0s 1ms/step - loss: 0.8713 - lr: 1.0000e-04\n",
      "Epoch 101/200\n",
      "6/6 [==============================] - 0s 965us/step - loss: 0.8894 - lr: 1.0000e-04\n",
      "Epoch 102/200\n",
      "6/6 [==============================] - 0s 1ms/step - loss: 0.9113 - lr: 1.0000e-04\n",
      "Epoch 103/200\n",
      "6/6 [==============================] - 0s 666us/step - loss: 0.8778 - lr: 1.0000e-04\n",
      "Epoch 104/200\n",
      "6/6 [==============================] - 0s 1ms/step - loss: 0.8722 - lr: 1.0000e-04\n",
      "Epoch 105/200\n",
      "6/6 [==============================] - 0s 810us/step - loss: 0.8798 - lr: 1.0000e-04\n",
      "Epoch 106/200\n",
      "6/6 [==============================] - 0s 1ms/step - loss: 0.8823 - lr: 1.0000e-04\n",
      "Epoch 107/200\n",
      "6/6 [==============================] - 0s 862us/step - loss: 0.8935 - lr: 1.0000e-04\n",
      "Epoch 108/200\n",
      "6/6 [==============================] - 0s 937us/step - loss: 0.8835 - lr: 1.0000e-04\n",
      "Epoch 109/200\n",
      "6/6 [==============================] - 0s 731us/step - loss: 0.8806 - lr: 1.0000e-04\n",
      "Epoch 110/200\n",
      "6/6 [==============================] - 0s 945us/step - loss: 0.8914 - lr: 1.0000e-04\n",
      "Epoch 111/200\n",
      "6/6 [==============================] - 0s 706us/step - loss: 0.8838 - lr: 1.0000e-04\n",
      "Epoch 112/200\n",
      "6/6 [==============================] - 0s 1ms/step - loss: 0.8709 - lr: 1.0000e-04\n",
      "Epoch 113/200\n",
      "6/6 [==============================] - 0s 776us/step - loss: 0.8917 - lr: 1.0000e-04\n",
      "Epoch 114/200\n",
      "6/6 [==============================] - 0s 999us/step - loss: 0.8838 - lr: 1.0000e-04\n",
      "Epoch 115/200\n",
      "6/6 [==============================] - 0s 850us/step - loss: 0.8737 - lr: 1.0000e-04\n",
      "Epoch 116/200\n",
      "6/6 [==============================] - 0s 600us/step - loss: 0.8832 - lr: 1.0000e-04\n",
      "Epoch 117/200\n",
      "6/6 [==============================] - 0s 2ms/step - loss: 0.8764 - lr: 1.0000e-04\n",
      "Epoch 118/200\n",
      "6/6 [==============================] - 0s 1ms/step - loss: 0.8785 - lr: 1.0000e-04\n",
      "Epoch 119/200\n",
      "6/6 [==============================] - 0s 897us/step - loss: 0.8737 - lr: 1.0000e-04\n",
      "Epoch 120/200\n",
      "6/6 [==============================] - 0s 985us/step - loss: 0.8762 - lr: 1.0000e-04\n",
      "Epoch 121/200\n",
      "6/6 [==============================] - 0s 868us/step - loss: 0.8799 - lr: 1.0000e-04\n",
      "Epoch 122/200\n",
      "6/6 [==============================] - 0s 896us/step - loss: 0.8799 - lr: 1.0000e-04\n",
      "Epoch 123/200\n",
      "6/6 [==============================] - 0s 707us/step - loss: 0.8745 - lr: 1.0000e-04\n",
      "Epoch 124/200\n",
      "6/6 [==============================] - 0s 1ms/step - loss: 0.8717 - lr: 1.0000e-04\n",
      "Epoch 125/200\n",
      "6/6 [==============================] - 0s 629us/step - loss: 0.8725 - lr: 1.0000e-04\n",
      "Epoch 126/200\n",
      "6/6 [==============================] - 0s 1ms/step - loss: 0.8703 - lr: 1.0000e-04\n",
      "Epoch 127/200\n",
      "6/6 [==============================] - 0s 706us/step - loss: 0.8721 - lr: 1.0000e-04\n",
      "Epoch 128/200\n",
      "6/6 [==============================] - 0s 1ms/step - loss: 0.8723 - lr: 1.0000e-04\n",
      "Epoch 129/200\n",
      "6/6 [==============================] - 0s 979us/step - loss: 0.8751 - lr: 1.0000e-04\n",
      "Epoch 130/200\n",
      "6/6 [==============================] - 0s 1ms/step - loss: 0.8765 - lr: 1.0000e-04\n",
      "Epoch 131/200\n",
      "6/6 [==============================] - 0s 994us/step - loss: 0.8769 - lr: 1.0000e-04\n",
      "Epoch 132/200\n",
      "6/6 [==============================] - 0s 925us/step - loss: 0.8732 - lr: 1.0000e-04\n",
      "Epoch 133/200\n",
      "6/6 [==============================] - 0s 967us/step - loss: 0.8734 - lr: 1.0000e-04\n",
      "Epoch 134/200\n",
      "6/6 [==============================] - 0s 623us/step - loss: 0.8731 - lr: 1.0000e-04\n",
      "Epoch 135/200\n",
      "6/6 [==============================] - 0s 987us/step - loss: 0.8720 - lr: 1.0000e-04\n",
      "Epoch 136/200\n",
      "6/6 [==============================] - 0s 918us/step - loss: 0.8734 - lr: 1.0000e-04\n",
      "Epoch 137/200\n",
      "6/6 [==============================] - 0s 1ms/step - loss: 0.8699 - lr: 1.0000e-04\n",
      "Epoch 138/200\n",
      "6/6 [==============================] - 0s 837us/step - loss: 0.8747 - lr: 1.0000e-04\n",
      "Epoch 139/200\n",
      "6/6 [==============================] - 0s 1ms/step - loss: 0.8808 - lr: 1.0000e-04\n",
      "Epoch 140/200\n",
      "6/6 [==============================] - 0s 800us/step - loss: 0.8783 - lr: 1.0000e-04\n",
      "Epoch 141/200\n",
      "6/6 [==============================] - 0s 831us/step - loss: 0.8731 - lr: 1.0000e-04\n",
      "Epoch 142/200\n",
      "6/6 [==============================] - 0s 854us/step - loss: 0.8687 - lr: 1.0000e-04\n",
      "Epoch 143/200\n",
      "6/6 [==============================] - 0s 604us/step - loss: 0.8786 - lr: 1.0000e-04\n",
      "Epoch 144/200\n",
      "6/6 [==============================] - 0s 949us/step - loss: 0.8748 - lr: 1.0000e-04\n",
      "Epoch 145/200\n",
      "6/6 [==============================] - 0s 706us/step - loss: 0.8679 - lr: 1.0000e-04\n",
      "Epoch 146/200\n",
      "6/6 [==============================] - 0s 858us/step - loss: 0.8723 - lr: 1.0000e-04\n",
      "Epoch 147/200\n",
      "6/6 [==============================] - 0s 652us/step - loss: 0.8735 - lr: 1.0000e-04\n",
      "Epoch 148/200\n",
      "6/6 [==============================] - 0s 1ms/step - loss: 0.8686 - lr: 1.0000e-04\n",
      "Epoch 149/200\n",
      "6/6 [==============================] - 0s 911us/step - loss: 0.8748 - lr: 1.0000e-04\n",
      "Epoch 150/200\n",
      "6/6 [==============================] - 0s 1ms/step - loss: 0.8786 - lr: 1.0000e-04\n",
      "Epoch 151/200\n",
      "6/6 [==============================] - 0s 810us/step - loss: 0.8709 - lr: 1.0000e-04\n",
      "Epoch 152/200\n",
      "6/6 [==============================] - 0s 940us/step - loss: 0.8720 - lr: 1.0000e-04\n",
      "Epoch 153/200\n",
      "6/6 [==============================] - 0s 776us/step - loss: 0.8741 - lr: 1.0000e-04\n",
      "Epoch 154/200\n",
      "6/6 [==============================] - 0s 607us/step - loss: 0.8829 - lr: 1.0000e-04\n",
      "Epoch 155/200\n",
      "6/6 [==============================] - 0s 862us/step - loss: 0.8848 - lr: 1.0000e-04\n",
      "Epoch 156/200\n",
      "6/6 [==============================] - 0s 837us/step - loss: 0.8785 - lr: 1.0000e-04\n",
      "Epoch 157/200\n",
      "6/6 [==============================] - 0s 1ms/step - loss: 0.8818 - lr: 1.0000e-04\n",
      "Epoch 158/200\n",
      "6/6 [==============================] - 0s 760us/step - loss: 0.8714 - lr: 1.0000e-04\n",
      "Epoch 159/200\n",
      "6/6 [==============================] - 0s 1ms/step - loss: 0.8766 - lr: 1.0000e-04\n",
      "Epoch 160/200\n",
      "6/6 [==============================] - 0s 890us/step - loss: 0.8783 - lr: 1.0000e-04\n",
      "Epoch 161/200\n",
      "6/6 [==============================] - 0s 874us/step - loss: 0.8718 - lr: 1.0000e-04\n",
      "Epoch 162/200\n",
      "6/6 [==============================] - 0s 800us/step - loss: 0.8786 - lr: 1.0000e-04\n",
      "Epoch 163/200\n",
      "6/6 [==============================] - 0s 1ms/step - loss: 0.8761 - lr: 1.0000e-04\n",
      "Epoch 164/200\n",
      "6/6 [==============================] - 0s 804us/step - loss: 0.8709 - lr: 1.0000e-04\n",
      "Epoch 165/200\n",
      "6/6 [==============================] - 0s 1ms/step - loss: 0.8736 - lr: 1.0000e-04\n",
      "Epoch 166/200\n",
      "6/6 [==============================] - 0s 778us/step - loss: 0.8765 - lr: 1.0000e-04\n",
      "Epoch 167/200\n",
      "6/6 [==============================] - 0s 843us/step - loss: 0.8773 - lr: 1.0000e-04\n",
      "Epoch 168/200\n",
      "6/6 [==============================] - 0s 947us/step - loss: 0.8807 - lr: 1.0000e-04\n",
      "Epoch 169/200\n",
      "6/6 [==============================] - 0s 797us/step - loss: 0.8694 - lr: 1.0000e-04\n",
      "Epoch 170/200\n"
     ]
    },
    {
     "name": "stdout",
     "output_type": "stream",
     "text": [
      "6/6 [==============================] - 0s 717us/step - loss: 0.8886 - lr: 1.0000e-04\n",
      "Epoch 171/200\n",
      "6/6 [==============================] - 0s 918us/step - loss: 0.8848 - lr: 1.0000e-04\n",
      "Epoch 172/200\n",
      "6/6 [==============================] - 0s 1ms/step - loss: 0.8698 - lr: 1.0000e-04\n",
      "Epoch 173/200\n",
      "6/6 [==============================] - 0s 630us/step - loss: 0.8931 - lr: 1.0000e-04\n",
      "Epoch 174/200\n",
      "6/6 [==============================] - 0s 1ms/step - loss: 0.8832 - lr: 1.0000e-04\n",
      "Epoch 175/200\n",
      "6/6 [==============================] - 0s 800us/step - loss: 0.8757 - lr: 1.0000e-04\n",
      "Epoch 176/200\n",
      "6/6 [==============================] - 0s 1ms/step - loss: 0.9402 - lr: 1.0000e-04\n",
      "Epoch 177/200\n",
      "6/6 [==============================] - 0s 910us/step - loss: 0.8930 - lr: 1.0000e-04\n",
      "Epoch 178/200\n",
      "6/6 [==============================] - 0s 1ms/step - loss: 0.8764 - lr: 1.0000e-04\n",
      "Epoch 179/200\n",
      "6/6 [==============================] - 0s 800us/step - loss: 0.8788 - lr: 1.0000e-04\n",
      "Epoch 180/200\n",
      "6/6 [==============================] - 0s 1ms/step - loss: 0.8742 - lr: 1.0000e-04\n",
      "Epoch 181/200\n",
      "6/6 [==============================] - 0s 1ms/step - loss: 0.8759 - lr: 1.0000e-04\n",
      "Epoch 182/200\n",
      "6/6 [==============================] - 0s 1ms/step - loss: 0.8822 - lr: 1.0000e-04\n",
      "Epoch 183/200\n",
      "6/6 [==============================] - 0s 812us/step - loss: 0.8719 - lr: 1.0000e-04\n",
      "Epoch 184/200\n",
      "6/6 [==============================] - 0s 1ms/step - loss: 0.8737 - lr: 1.0000e-04\n",
      "Epoch 185/200\n",
      "6/6 [==============================] - 0s 954us/step - loss: 0.8781 - lr: 1.0000e-04\n",
      "Epoch 186/200\n",
      "6/6 [==============================] - 0s 1ms/step - loss: 0.8746 - lr: 1.0000e-04\n",
      "Epoch 187/200\n",
      "6/6 [==============================] - 0s 834us/step - loss: 0.8798 - lr: 1.0000e-04\n",
      "Epoch 188/200\n",
      "6/6 [==============================] - 0s 1ms/step - loss: 0.8817 - lr: 1.0000e-04\n",
      "Epoch 189/200\n",
      "6/6 [==============================] - 0s 1ms/step - loss: 0.8718 - lr: 1.0000e-04\n",
      "Epoch 190/200\n",
      "6/6 [==============================] - 0s 844us/step - loss: 0.8810 - lr: 1.0000e-04\n",
      "Epoch 191/200\n",
      "6/6 [==============================] - 0s 973us/step - loss: 0.8770 - lr: 1.0000e-04\n",
      "Epoch 192/200\n",
      "6/6 [==============================] - 0s 796us/step - loss: 0.8781 - lr: 1.0000e-04\n",
      "Epoch 193/200\n",
      "6/6 [==============================] - 0s 1ms/step - loss: 0.8755 - lr: 1.0000e-04\n",
      "Epoch 194/200\n",
      "6/6 [==============================] - 0s 787us/step - loss: 0.8713 - lr: 1.0000e-04\n",
      "Epoch 195/200\n",
      "6/6 [==============================] - 0s 1ms/step - loss: 0.8706 - lr: 1.0000e-04\n",
      "Epoch 196/200\n",
      "6/6 [==============================] - 0s 841us/step - loss: 0.8707 - lr: 1.0000e-04\n",
      "Epoch 197/200\n",
      "6/6 [==============================] - 0s 839us/step - loss: 0.8871 - lr: 1.0000e-04\n",
      "Epoch 198/200\n",
      "6/6 [==============================] - 0s 800us/step - loss: 0.8749 - lr: 1.0000e-04\n",
      "Epoch 199/200\n",
      "6/6 [==============================] - 0s 1ms/step - loss: 0.8758 - lr: 1.0000e-04\n",
      "Epoch 200/200\n",
      "6/6 [==============================] - 0s 1ms/step - loss: 0.8854 - lr: 1.0000e-04\n"
     ]
    }
   ],
   "source": [
    "model = tf.keras.models.Sequential([\n",
    "    tf.keras.layers.Input(shape=(D,)),\n",
    "    tf.keras.layers.Dense(1)  # No activation function required\n",
    "])\n",
    "\n",
    "# Compile model\n",
    "model.compile(optimizer=tf.keras.optimizers.SGD(0.001, 0.9),  # Stochastic Gradient Descent (learning_rate, momentum)\n",
    "             loss = 'mse')                                    # Mean Sqr Error (Accuracy not applicable for regression)\n",
    "\n",
    "# Train model\n",
    "r = model.fit(X, y, epochs=200, callbacks=scheduler)"
   ]
  },
  {
   "cell_type": "code",
   "execution_count": 244,
   "id": "ce893122",
   "metadata": {},
   "outputs": [
    {
     "data": {
      "text/plain": [
       "Text(0.5, 1.0, 'loss')"
      ]
     },
     "execution_count": 244,
     "metadata": {},
     "output_type": "execute_result"
    },
    {
     "data": {
      "image/png": "[encoded data removed]",
      "text/plain": [
       "<Figure size 432x288 with 1 Axes>"
      ]
     },
     "metadata": {
      "needs_background": "light"
     },
     "output_type": "display_data"
    }
   ],
   "source": [
    "# plot training\n",
    "plt.plot(r.history['loss'])\n",
    "plt.title('loss')"
   ]
  },
  {
   "cell_type": "code",
   "execution_count": 245,
   "id": "d52d66d3",
   "metadata": {},
   "outputs": [
    {
     "data": {
      "text/plain": [
       "0.35354725"
      ]
     },
     "execution_count": 245,
     "metadata": {},
     "output_type": "execute_result"
    }
   ],
   "source": [
    "# access weights\n",
    "a = model.layers[0].get_weights()[0][0,0]\n",
    "a"
   ]
  },
  {
   "cell_type": "markdown",
   "id": "4faf74a0",
   "metadata": {},
   "source": [
    "Model for exponential growth:\n",
    "\n",
    "$C = A_0 r^t$\n",
    "\n",
    "$log \\: C = t \\cdot log \\: r + log \\: A_0$\n",
    "\n",
    "In our case we have:\n",
    "\n",
    "$\\hat{y} = ax + b$\n",
    "\n",
    "Therefore:\n",
    "\n",
    "$r = e^a$"
   ]
  },
  {
   "cell_type": "code",
   "execution_count": 246,
   "id": "4149f204",
   "metadata": {},
   "outputs": [
    {
     "data": {
      "text/plain": [
       "1.42411"
      ]
     },
     "execution_count": 246,
     "metadata": {},
     "output_type": "execute_result"
    }
   ],
   "source": [
    "r = np.exp(a)\n",
    "r"
   ]
  },
  {
   "cell_type": "markdown",
   "id": "552c59ba",
   "metadata": {},
   "source": [
    "Time ($t'$) it takes for the transistor time to double:\n",
    "\n",
    "$2C = A_0 r^{t'}$\n",
    "\n",
    "where $C = A_0 r^{t}$ so:\n",
    "\n",
    "$2 = A_0 r^{t'}/A_0 r^{t} = r^{(t' - t)}$\n",
    "\n",
    "Therefore:\n",
    "\n",
    "$t' - t = \\frac{log \\: 2}{a}$"
   ]
  },
  {
   "cell_type": "code",
   "execution_count": 247,
   "id": "ba1bac56",
   "metadata": {},
   "outputs": [
    {
     "data": {
      "text/plain": [
       "1.9605503644703988"
      ]
     },
     "execution_count": 247,
     "metadata": {},
     "output_type": "execute_result"
    }
   ],
   "source": [
    "# number of years that it takes for the transistor time to double: 2 years\n",
    "np.log(2) / a"
   ]
  },
  {
   "cell_type": "markdown",
   "id": "ab48db7b",
   "metadata": {},
   "source": [
    "### Making Predictions"
   ]
  },
  {
   "cell_type": "code",
   "execution_count": 248,
   "id": "acb48e17",
   "metadata": {},
   "outputs": [
    {
     "data": {
      "text/plain": [
       "[<matplotlib.lines.Line2D at 0x204c131a670>]"
      ]
     },
     "execution_count": 248,
     "metadata": {},
     "output_type": "execute_result"
    },
    {
     "data": {
      "image/png": "[encoded data removed]",
      "text/plain": [
       "<Figure size 432x288 with 1 Axes>"
      ]
     },
     "metadata": {
      "needs_background": "light"
     },
     "output_type": "display_data"
    }
   ],
   "source": [
    "# make sure that prediction fits our data\n",
    "yhat = model.predict(X).flatten()\n",
    "\n",
    "plt.scatter(X, y)\n",
    "plt.plot(X, yhat, 'red')"
   ]
  },
  {
   "cell_type": "code",
   "execution_count": 249,
   "id": "1759a37b",
   "metadata": {},
   "outputs": [],
   "source": [
    "# manual calculation\n",
    "w, b = model.layers[0].get_weights()"
   ]
  },
  {
   "cell_type": "code",
   "execution_count": 250,
   "id": "5f7fbd89",
   "metadata": {},
   "outputs": [],
   "source": [
    "# reshape data to undo flattening\n",
    "X = X.reshape(-1, 1)"
   ]
  },
  {
   "cell_type": "code",
   "execution_count": 251,
   "id": "c4e65fff",
   "metadata": {},
   "outputs": [],
   "source": [
    "# Calculate predictions and flatten\n",
    "yhat2 = (X.dot(w) + b).flatten()"
   ]
  },
  {
   "cell_type": "code",
   "execution_count": 252,
   "id": "98e635a0",
   "metadata": {},
   "outputs": [
    {
     "data": {
      "text/plain": [
       "True"
      ]
     },
     "execution_count": 252,
     "metadata": {},
     "output_type": "execute_result"
    }
   ],
   "source": [
    "# check if the results are the same (we use allclose instead of == to account for rounding errors)\n",
    "np.allclose(yhat, yhat2)"
   ]
  }
 ],
 "metadata": {
  "kernelspec": {
   "display_name": "Python 3 (ipykernel)",
   "language": "python",
   "name": "python3"
  },
  "language_info": {
   "codemirror_mode": {
    "name": "ipython",
    "version": 3
   },
   "file_extension": ".py",
   "mimetype": "text/x-python",
   "name": "python",
   "nbconvert_exporter": "python",
   "pygments_lexer": "ipython3",
   "version": "3.8.13"
  }
 },
 "nbformat": 4,
 "nbformat_minor": 5
}
